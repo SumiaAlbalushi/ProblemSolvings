{
  "nbformat": 4,
  "nbformat_minor": 0,
  "metadata": {
    "colab": {
      "provenance": [],
      "authorship_tag": "ABX9TyM9U6Z3kefsOeV7dLYLeW+v",
      "include_colab_link": true
    },
    "kernelspec": {
      "name": "python3",
      "display_name": "Python 3"
    },
    "language_info": {
      "name": "python"
    }
  },
  "cells": [
    {
      "cell_type": "markdown",
      "metadata": {
        "id": "view-in-github",
        "colab_type": "text"
      },
      "source": [
        "<a href=\"https://colab.research.google.com/github/SumiaAlbalushi/ProblemSolvings/blob/main/promlemSolving20.ipynb\" target=\"_parent\"><img src=\"https://colab.research.google.com/assets/colab-badge.svg\" alt=\"Open In Colab\"/></a>"
      ]
    },
    {
      "cell_type": "code",
      "execution_count": 1,
      "metadata": {
        "colab": {
          "base_uri": "https://localhost:8080/"
        },
        "id": "DUasfhwkb3fF",
        "outputId": "3083a9c5-f7bd-4c2b-f23b-d50daa1fb1b0"
      },
      "outputs": [
        {
          "output_type": "stream",
          "name": "stdout",
          "text": [
            "12\n"
          ]
        }
      ],
      "source": [
        "def trapped_water(arr):\n",
        "  n = len(arr)\n",
        "  left_max = [0] * n\n",
        "  right_max = [0] * n\n",
        "\n",
        "  left_max[0] = arr[0]\n",
        "  for i in range(1, n):\n",
        "    left_max[i] = max(left_max[i - 1], arr[i])\n",
        "\n",
        "  right_max[n - 1] = arr[n - 1]\n",
        "  for i in range(n - 2, -1, -1):\n",
        "   right_max[i] = max(right_max[i + 1], arr[i])\n",
        "\n",
        "  water_trapped = 0\n",
        "  for i in range(n):\n",
        "    water_trapped += min(left_max[i], right_max[i] - arr[i])\n",
        "\n",
        "  return water_trapped\n",
        "\n",
        "\n",
        "arr = [3,0,0,2,0,4]\n",
        "result = trapped_water(arr)\n",
        "print(result)"
      ]
    }
  ]
}