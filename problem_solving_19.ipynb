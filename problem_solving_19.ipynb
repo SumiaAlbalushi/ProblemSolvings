{
  "nbformat": 4,
  "nbformat_minor": 0,
  "metadata": {
    "colab": {
      "provenance": [],
      "authorship_tag": "ABX9TyNme3Ani30W/kK4gVj/iP0y",
      "include_colab_link": true
    },
    "kernelspec": {
      "name": "python3",
      "display_name": "Python 3"
    },
    "language_info": {
      "name": "python"
    }
  },
  "cells": [
    {
      "cell_type": "markdown",
      "metadata": {
        "id": "view-in-github",
        "colab_type": "text"
      },
      "source": [
        "<a href=\"https://colab.research.google.com/github/SumiaAlbalushi/ProblemSolvings/blob/main/problem_solving_19.ipynb\" target=\"_parent\"><img src=\"https://colab.research.google.com/assets/colab-badge.svg\" alt=\"Open In Colab\"/></a>"
      ]
    },
    {
      "cell_type": "code",
      "execution_count": 1,
      "metadata": {
        "colab": {
          "base_uri": "https://localhost:8080/"
        },
        "id": "WVhrdltrdalK",
        "outputId": "22fbe305-5451-4bc1-9740-5d253544ad01"
      },
      "outputs": [
        {
          "output_type": "stream",
          "name": "stdout",
          "text": [
            "5\n",
            "9\n"
          ]
        }
      ],
      "source": [
        "def trap(height):\n",
        "   if not height:\n",
        "       return 0\n",
        "\n",
        "   n = len(height)\n",
        "   left_max = [0] * n\n",
        "   right_max = [0] * n\n",
        "   left_max[0] = height[0]\n",
        "   right_max[n - 1] = height[n - 1]\n",
        "\n",
        "   for i in range(1, n):\n",
        "       left_max[i] = max(left_max[i - 1], height[i])\n",
        "\n",
        "   for i in range(n - 2, -1, -1):\n",
        "       right_max[i] = max(right_max[i + 1], height[i])\n",
        "\n",
        "   water_trapped = 0\n",
        "   for i in range(n):\n",
        "       water_trapped += min(left_max[i], right_max[i]) - height[i]\n",
        "\n",
        "   return water_trapped\n",
        "\n",
        "height1 = [0, 1, 0, 2, 1, 0, 1, 3, 2, 2, 1]\n",
        "height2 = [4, 2, 0, 3, 2, 5]\n",
        "\n",
        "output1 = trap(height1)\n",
        "output2 = trap(height2)\n",
        "\n",
        "print(output1)\n",
        "print(output2)"
      ]
    }
  ]
}