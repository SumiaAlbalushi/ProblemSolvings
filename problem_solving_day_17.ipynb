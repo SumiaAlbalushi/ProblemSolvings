{
  "nbformat": 4,
  "nbformat_minor": 0,
  "metadata": {
    "colab": {
      "provenance": [],
      "authorship_tag": "ABX9TyPVL17dkO6qCJU95f6Pfskm",
      "include_colab_link": true
    },
    "kernelspec": {
      "name": "python3",
      "display_name": "Python 3"
    },
    "language_info": {
      "name": "python"
    }
  },
  "cells": [
    {
      "cell_type": "markdown",
      "metadata": {
        "id": "view-in-github",
        "colab_type": "text"
      },
      "source": [
        "<a href=\"https://colab.research.google.com/github/SumiaAlbalushi/ProblemSolvings/blob/main/problem_solving_day_17.ipynb\" target=\"_parent\"><img src=\"https://colab.research.google.com/assets/colab-badge.svg\" alt=\"Open In Colab\"/></a>"
      ]
    },
    {
      "cell_type": "code",
      "execution_count": 1,
      "metadata": {
        "colab": {
          "base_uri": "https://localhost:8080/"
        },
        "id": "bfToNXgzWIMv",
        "outputId": "1b2c7854-f497-4c2d-e59c-1ee99c204499"
      },
      "outputs": [
        {
          "output_type": "stream",
          "name": "stdout",
          "text": [
            "NO\n"
          ]
        }
      ],
      "source": [
        "def is_power_of_two(N):\n",
        "  if N <= 0:\n",
        "    return (N & (N - 1)) == 0\n",
        "\n",
        "N = 8\n",
        "if is_power_of_two(N):\n",
        "  print(\"yes\")\n",
        "\n",
        "else:\n",
        "  print(\"NO\")"
      ]
    }
  ]
}